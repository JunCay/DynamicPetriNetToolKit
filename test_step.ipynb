{
 "cells": [
  {
   "cell_type": "code",
   "execution_count": 1,
   "metadata": {},
   "outputs": [
    {
     "name": "stdout",
     "output_type": "stream",
     "text": [
      "Filtered Rows:\n",
      "[[1 0 2]\n",
      " [1 0 5]]\n",
      "Row Indices:\n",
      "[0 3]\n"
     ]
    }
   ],
   "source": [
    "import numpy as np\n",
    "\n",
    "# 假设这是你的n*3矩阵\n",
    "matrix = np.array([\n",
    "    [1, 0, 2],\n",
    "    [1, 1, 3],\n",
    "    [0, 0, 4],\n",
    "    [1, 0, 5],\n",
    "    [0, 1, 6]\n",
    "])\n",
    "\n",
    "# 筛选第一列为1且第二列为0的行\n",
    "filtered_rows = matrix[(matrix[:, 0] == 1) & (matrix[:, 1] == 0)]\n",
    "\n",
    "# 获取这些行的行序号\n",
    "row_indices = np.where((matrix[:, 0] == 1) & (matrix[:, 1] == 0))[0]\n",
    "\n",
    "print(\"Filtered Rows:\")\n",
    "print(filtered_rows)\n",
    "print(\"Row Indices:\")\n",
    "print(row_indices)"
   ]
  },
  {
   "cell_type": "code",
   "execution_count": null,
   "metadata": {},
   "outputs": [],
   "source": []
  }
 ],
 "metadata": {
  "kernelspec": {
   "display_name": "Python 3",
   "language": "python",
   "name": "python3"
  },
  "language_info": {
   "codemirror_mode": {
    "name": "ipython",
    "version": 3
   },
   "file_extension": ".py",
   "mimetype": "text/x-python",
   "name": "python",
   "nbconvert_exporter": "python",
   "pygments_lexer": "ipython3",
   "version": "3.10.9"
  }
 },
 "nbformat": 4,
 "nbformat_minor": 2
}
