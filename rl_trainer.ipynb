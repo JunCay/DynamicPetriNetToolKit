{
 "cells": [
  {
   "cell_type": "code",
   "execution_count": 1,
   "metadata": {},
   "outputs": [],
   "source": [
    "from pypetri.elements import *\n",
    "from pypetri.petri_net import *\n",
    "from pypetri.example_nets import *\n",
    "import math\n",
    "\n",
    "import numpy as np\n",
    "import torch\n",
    "import torch.nn as nn\n",
    "from torch.nn import functional as F\n",
    "from torch.distributions import Categorical\n",
    "import matplotlib.pyplot as plt\n",
    "import collections\n",
    "import random\n",
    "\n",
    "from tqdm import tqdm\n"
   ]
  },
  {
   "cell_type": "code",
   "execution_count": null,
   "metadata": {},
   "outputs": [],
   "source": []
  },
  {
   "cell_type": "code",
   "execution_count": 2,
   "metadata": {},
   "outputs": [],
   "source": [
    "class ReplayBuffer():\n",
    "    def __init__(self, capacity):\n",
    "        self.buffer = collections.deque(maxlen=capacity)\n",
    "\n",
    "    def __len__(self):\n",
    "        return len(self.buffer)\n",
    "    \n",
    "    def add(self, state, action, reward, next_state, done):\n",
    "        self.buffer.append((state, action, reward, next_state, done))\n",
    "        \n",
    "    def sample(self, batch_size):\n",
    "        transitions = random.sample(self.buffer, batch_size)\n",
    "        state, action, reward, next_state, done = zip(*transitions)\n",
    "        return np.array(state), action, reward, np.array(next_state), done\n",
    "    \n",
    "    def size(self):\n",
    "        return len(self.buffer)\n",
    "        "
   ]
  },
  {
   "cell_type": "code",
   "execution_count": 3,
   "metadata": {},
   "outputs": [],
   "source": [
    "class N2N(nn.Module):\n",
    "    def __init__(self, dim_in, dim_out, f=F.leaky_relu):\n",
    "        super(N2N, self).__init__()\n",
    "        self.weight = nn.Parameter(torch.Tensor(dim_out, dim_in).float())\n",
    "        self.bias = nn.Parameter(torch.Tensor(dim_out).float())\n",
    "        self.f = f\n",
    "        self.reset_parameters()\n",
    "    \n",
    "    def reset_parameters(self):\n",
    "        nn.init.kaiming_uniform_(self.weight, a=math.sqrt(5))\n",
    "        if self.bias is not None:\n",
    "            fan_in, _ = nn.init._calculate_fan_in_and_fan_out(self.weight)\n",
    "            bound = 1 / math.sqrt(fan_in)\n",
    "            nn.init.uniform_(self.bias, -bound, bound)\n",
    "    \n",
    "    def forward(self, x):\n",
    "        x = torch.matmul(x, self.weight.t()) + self.bias.unsqueeze(0)\n",
    "        x = self.f(x)\n",
    "        return x\n",
    "    \n",
    "class T2P(nn.Module):\n",
    "    def __init__(self, dim_in, dim_out, adj_pt, f=F.leaky_relu):\n",
    "        super(T2P, self).__init__()\n",
    "        # self.adj_pt = torch.from_numpy(adj_pt).float()\n",
    "        self.adj_pt = adj_pt\n",
    "        self.f = f\n",
    "        self.weight = nn.Parameter(torch.Tensor(dim_out, dim_in).float())\n",
    "        self.bias = nn.Parameter(torch.Tensor(dim_out).float())\n",
    "        self.reset_parameters()\n",
    "    \n",
    "    def reset_parameters(self):\n",
    "        nn.init.kaiming_uniform_(self.weight, a=math.sqrt(5))\n",
    "        if self.bias is not None:\n",
    "            fan_in, _ = nn.init._calculate_fan_in_and_fan_out(self.weight)\n",
    "            bound = 1 / math.sqrt(fan_in)\n",
    "            nn.init.uniform_(self.bias, -bound, bound)\n",
    "            \n",
    "    def forward(self, x):\n",
    "        x = torch.matmul(self.adj_pt, x)\n",
    "        x = torch.matmul(x, self.weight.t()) + self.bias.unsqueeze(0)\n",
    "        x = self.f(x)\n",
    "        return x\n",
    "        \n",
    "class PConcat(nn.Module):\n",
    "    def __init__(self, dim_in, dim_out, f=F.leaky_relu):\n",
    "        super(PConcat, self).__init__()\n",
    "        self.f = f\n",
    "        self.weight = nn.Parameter(torch.Tensor(dim_out, dim_in).float())\n",
    "        self.bias = nn.Parameter(torch.Tensor(dim_out).float())\n",
    "        self.reset_parameters()\n",
    "        \n",
    "    def reset_parameters(self):\n",
    "        nn.init.kaiming_uniform_(self.weight, a=math.sqrt(5))\n",
    "        if self.bias is not None:\n",
    "            fan_in, _ = nn.init._calculate_fan_in_and_fan_out(self.weight)\n",
    "            bound = 1 / math.sqrt(fan_in)\n",
    "            nn.init.uniform_(self.bias, -bound, bound)\n",
    "        \n",
    "    def forward(self, x, dx):\n",
    "        x = torch.cat((x, dx), dim=-1)\n",
    "        x = torch.matmul(x, self.weight.t()) + self.bias.unsqueeze(0)\n",
    "        x = self.f(x)\n",
    "        return x\n",
    "        \n",
    "class P2T(nn.Module):\n",
    "    def __init__(self, dim_in, dim_out, adj_pt, f=F.leaky_relu):\n",
    "        super(P2T, self).__init__()\n",
    "        # self.adj_pt = torch.from_numpy(adj_pt).float()\n",
    "        self.adj_pt = adj_pt\n",
    "        self.f = f\n",
    "        self.weight = nn.Parameter(torch.Tensor(dim_out, dim_in).float())\n",
    "        self.bias = nn.Parameter(torch.Tensor(dim_out).float())\n",
    "        self.reset_parameters()\n",
    "        \n",
    "    def reset_parameters(self):\n",
    "        nn.init.kaiming_uniform_(self.weight, a=math.sqrt(5))\n",
    "        if self.bias is not None:\n",
    "            fan_in, _ = nn.init._calculate_fan_in_and_fan_out(self.weight)\n",
    "            bound = 1 / math.sqrt(fan_in)\n",
    "            nn.init.uniform_(self.bias, -bound, bound)\n",
    "        \n",
    "    def forward(self, x):\n",
    "        x = torch.matmul(self.adj_pt.t(), x)\n",
    "        x = torch.matmul(x, self.weight.t()) + self.bias.unsqueeze(0)\n",
    "        x = self.f(x)\n",
    "        return x\n",
    "        "
   ]
  },
  {
   "cell_type": "code",
   "execution_count": 4,
   "metadata": {},
   "outputs": [],
   "source": [
    "class GPNQNet(torch.nn.Module):\n",
    "    def __init__(self, lp0, lt0, adj_matrix, device):\n",
    "        super(GPNQNet, self).__init__()\n",
    "        self.adj_matrix = torch.from_numpy(adj_matrix).float().to(device)\n",
    "        \n",
    "        self.P2P_1 = N2N(lp0, 8)\n",
    "        self.T2T_1 = N2N(lt0, 8)\n",
    "        self.T2P_1 = T2P(8, 8, self.adj_matrix)\n",
    "        self.PCat2 = PConcat(16, 16)\n",
    "        self.P2T_2 = P2T(16, 16, self.adj_matrix)\n",
    "        self.T2P_2 = T2P(16, 16, self.adj_matrix)\n",
    "        self.PCat3 = PConcat(32, 32)\n",
    "        self.P2T_3 = P2T(32, 8, self.adj_matrix)\n",
    "        self.T2T_f = N2N(8, 1)\n",
    "        \n",
    "\n",
    "    def forward(self, p, t):\n",
    "        if isinstance(p, np.ndarray):\n",
    "            p = torch.from_numpy(p).float()\n",
    "        if isinstance(t, np.ndarray):\n",
    "            t = torch.from_numpy(t).float()\n",
    "        p1 = self.P2P_1(p)\n",
    "        t1 = self.T2T_1(t)\n",
    "        \n",
    "        dp1 = self.T2P_1(t1)\n",
    "        p2 = self.PCat2(p1, dp1)\n",
    "        t2 = self.P2T_2(p2)\n",
    "        \n",
    "        dp2 = self.T2P_2(t2)\n",
    "        p3 = self.PCat3(p2, dp2)\n",
    "        t3 = self.P2T_3(p3)\n",
    "        tf = self.T2T_f(t3)\n",
    "        \n",
    "        return tf\n",
    "        "
   ]
  },
  {
   "cell_type": "code",
   "execution_count": 5,
   "metadata": {},
   "outputs": [],
   "source": [
    "class DQN:\n",
    "    def __init__(self, lp, lt, action_dim, adj_matrix, learning_rate, gamma, epsilon, epsilon_min, epsilon_decay, target_update, device):\n",
    "        self.lp = lp\n",
    "        self.lt = lt\n",
    "        self.action_dim = action_dim\n",
    "        self.q_net = GPNQNet(lp, lt, adj_matrix, device).to(device)\n",
    "        self.target_q_net = GPNQNet(lp, lt, adj_matrix, device).to(device)\n",
    "        self.optimizer = torch.optim.Adam(self.q_net.parameters(), lr=learning_rate)\n",
    "        self.gamma = gamma\n",
    "        self.epsilon = epsilon\n",
    "        self.epsilon_min = epsilon_min\n",
    "        self.epsilon_decay = epsilon_decay\n",
    "        self.target_update = target_update\n",
    "        self.device = device\n",
    "        self.count = 0\n",
    "        \n",
    "    def take_action(self, state):\n",
    "        if np.random.random() < self.epsilon:\n",
    "            if self.epsilon > self.epsilon_min:\n",
    "                self.epsilon *= self.epsilon_decay\n",
    "            action = np.random.randint(0, self.action_dim)\n",
    "        else:\n",
    "            state_p = state[0]\n",
    "            state_l = state[1]\n",
    "            state_p = torch.tensor([state_p], dtype=torch.float).to(self.device)\n",
    "            state_l = torch.tensor([state_l], dtype=torch.float).to(self.device)\n",
    "            action = self.q_net(state_p, state_l).argmax().item()\n",
    "        return action\n",
    "        \n",
    "    def update(self, transition_dict):\n",
    "        # print(transition_dict['states'][:, 0])\n",
    "        p_states = torch.tensor([transition_dict['states'][:, 0]], dtype=torch.float).squeeze(0).to(self.device)\n",
    "        t_states = torch.tensor([transition_dict['states'][:, 1]], dtype=torch.float).squeeze(0).to(self.device)\n",
    "        \n",
    "        actions = torch.tensor([transition_dict['actions']]).view(-1, 1).unsqueeze(-1).to(self.device)\n",
    "        rewards = torch.tensor([transition_dict['rewards']], dtype=torch.float).view(-1, 1).to(self.device)\n",
    "        \n",
    "        next_p_states = torch.tensor([transition_dict['next_states'][:, 0]], dtype=torch.float).squeeze(0).to(self.device)\n",
    "        next_t_states = torch.tensor([transition_dict['next_states'][:, 1]], dtype=torch.float).squeeze(0).to(self.device)\n",
    "        dones = torch.tensor([transition_dict['dones']], dtype=torch.float).view(-1, 1).to(self.device)\n",
    "\n",
    "        q_values = self.q_net(p_states, t_states)\n",
    "        q_values = q_values.gather(1, actions)\n",
    "        max_next_q_values = self.target_q_net(next_p_states, next_t_states).max(1)[0].view(-1, 1)\n",
    "        q_targets = rewards + self.gamma * max_next_q_values * (1 - dones)\n",
    "        loss = torch.mean(F.mse_loss(q_values, q_targets))\n",
    "        \n",
    "        self.optimizer.zero_grad()\n",
    "        loss.backward()\n",
    "        self.optimizer.step()\n",
    "        \n",
    "        if self.count % self.target_update == 0:\n",
    "            self.target_q_net.load_state_dict(self.q_net.state_dict())\n",
    "        self.count += 1"
   ]
  },
  {
   "cell_type": "code",
   "execution_count": 6,
   "metadata": {},
   "outputs": [
    {
     "name": "stdout",
     "output_type": "stream",
     "text": [
      "cuda\n"
     ]
    }
   ],
   "source": [
    "\n",
    "lr = 5e-3\n",
    "gamma = 0.98\n",
    "epsilon = 0.1\n",
    "epsilon_min = 0.01\n",
    "epsilon_decay = 0.99\n",
    "num_episode = 500\n",
    "target_update = 10\n",
    "buffer_size = 10000\n",
    "minimal_size = 500\n",
    "batch_size = 128\n",
    "\n",
    "efm_net = EmptyNet('efm_net')\n",
    "initial_file_path = 'initial_file/neural_petri_net.csv'\n",
    "efm_net.init_by_csv(initial_file_path)\n",
    "efm_net.set_dt(1)\n",
    "\n",
    "lp = efm_net.get_state()[0].shape[1]\n",
    "lt = efm_net.get_state()[1].shape[1]\n",
    "action_dim = efm_net.get_action_space()\n",
    "\n",
    "device = torch.device('cuda') if torch.cuda.is_available() else torch.device('cpu')\n",
    "print(device)\n",
    "\n",
    "# random.seed(0)\n",
    "# np.random.seed(0)\n",
    "# torch.manual_seed(0)\n",
    "replay_buffer = ReplayBuffer(buffer_size)\n",
    "agent = DQN(lp, lt, action_dim, efm_net.get_adj_matrix(), lr, gamma, epsilon, epsilon_min, epsilon_decay, target_update, device)"
   ]
  },
  {
   "cell_type": "code",
   "execution_count": null,
   "metadata": {},
   "outputs": [],
   "source": []
  },
  {
   "cell_type": "code",
   "execution_count": 7,
   "metadata": {},
   "outputs": [
    {
     "name": "stderr",
     "output_type": "stream",
     "text": [
      "Iteration 0:   0%|          | 0/50 [00:00<?, ?it/s]C:\\Users\\87903\\AppData\\Local\\Temp\\ipykernel_31264\\2706762323.py:25: UserWarning: Creating a tensor from a list of numpy.ndarrays is extremely slow. Please consider converting the list to a single numpy.ndarray with numpy.array() before converting to a tensor. (Triggered internally at  ..\\torch\\csrc\\utils\\tensor_new.cpp:210.)\n",
      "  state_p = torch.tensor([state_p], dtype=torch.float).to(self.device)\n",
      "Iteration 0:   8%|▊         | 4/50 [00:02<00:20,  2.21it/s]C:\\Users\\87903\\AppData\\Local\\Temp\\ipykernel_31264\\846506765.py:14: VisibleDeprecationWarning: Creating an ndarray from ragged nested sequences (which is a list-or-tuple of lists-or-tuples-or ndarrays with different lengths or shapes) is deprecated. If you meant to do this, you must specify 'dtype=object' when creating the ndarray.\n",
      "  return np.array(state), action, reward, np.array(next_state), done\n",
      "C:\\Users\\87903\\AppData\\Local\\Temp\\ipykernel_31264\\2706762323.py:46: UserWarning: Using a target size (torch.Size([128, 1])) that is different to the input size (torch.Size([128, 1, 1])). This will likely lead to incorrect results due to broadcasting. Please ensure they have the same size.\n",
      "  loss = torch.mean(F.mse_loss(q_values, q_targets))\n",
      "Iteration 0: 100%|██████████| 50/50 [03:23<00:00,  4.07s/it, episode=50, return=-499.000]\n",
      "Iteration 1: 100%|██████████| 50/50 [03:41<00:00,  4.44s/it, episode=100, return=-501.400]\n",
      "Iteration 2: 100%|██████████| 50/50 [03:48<00:00,  4.58s/it, episode=150, return=-503.800]\n",
      "Iteration 3: 100%|██████████| 50/50 [03:49<00:00,  4.58s/it, episode=200, return=-270.341]\n",
      "Iteration 4: 100%|██████████| 50/50 [03:27<00:00,  4.15s/it, episode=250, return=-273.440]\n",
      "Iteration 5: 100%|██████████| 50/50 [03:30<00:00,  4.21s/it, episode=300, return=-496.200]\n",
      "Iteration 6: 100%|██████████| 50/50 [03:43<00:00,  4.46s/it, episode=350, return=-497.400]\n",
      "Iteration 7: 100%|██████████| 50/50 [03:26<00:00,  4.13s/it, episode=400, return=-441.211]\n",
      "Iteration 8: 100%|██████████| 50/50 [03:50<00:00,  4.61s/it, episode=450, return=-239.009]\n",
      "Iteration 9: 100%|██████████| 50/50 [03:26<00:00,  4.12s/it, episode=500, return=-366.753]\n",
      "Iteration 10: 100%|██████████| 50/50 [03:26<00:00,  4.14s/it, episode=550, return=-496.700]\n",
      "Iteration 11: 100%|██████████| 50/50 [03:32<00:00,  4.25s/it, episode=600, return=-427.125]\n",
      "Iteration 12: 100%|██████████| 50/50 [03:29<00:00,  4.18s/it, episode=650, return=-222.043]\n",
      "Iteration 13: 100%|██████████| 50/50 [03:27<00:00,  4.14s/it, episode=700, return=-359.268]\n",
      "Iteration 14: 100%|██████████| 50/50 [03:26<00:00,  4.13s/it, episode=750, return=-300.155]\n",
      "Iteration 15: 100%|██████████| 50/50 [03:26<00:00,  4.13s/it, episode=800, return=-451.032]\n",
      "Iteration 16: 100%|██████████| 50/50 [03:31<00:00,  4.23s/it, episode=850, return=-336.335]\n",
      "Iteration 17: 100%|██████████| 50/50 [03:46<00:00,  4.54s/it, episode=900, return=-335.307]\n",
      "Iteration 18: 100%|██████████| 50/50 [03:45<00:00,  4.50s/it, episode=950, return=-290.434]\n",
      "Iteration 19: 100%|██████████| 50/50 [04:10<00:00,  5.02s/it, episode=1000, return=-358.646]\n"
     ]
    }
   ],
   "source": [
    "\n",
    "return_list = []\n",
    "action_list = []\n",
    "for i in range(20):\n",
    "    with tqdm(total=int(num_episode / 10), desc='Iteration %d' % i) as pbar:\n",
    "        for i_episode in range(int(num_episode / 10)):\n",
    "            episode_return = 0\n",
    "            state = efm_net.reset()\n",
    "            done = False\n",
    "            this_action = []\n",
    "            \n",
    "            while not done:\n",
    "                action = agent.take_action(state)\n",
    "                this_action.append(action)\n",
    "                next_state, reward, done = efm_net.step(action)\n",
    "                replay_buffer.add(state, action, reward, next_state, done)\n",
    "                state = next_state\n",
    "\n",
    "                episode_return += reward\n",
    "\n",
    "                if replay_buffer.size() > minimal_size:\n",
    "                    b_s, b_a, b_r, b_ns, b_d = replay_buffer.sample(batch_size)\n",
    "                    transition_dict = {'states': b_s, 'actions': b_a, 'rewards': b_r, 'next_states': b_ns, 'dones': b_d}\n",
    "                    agent.update(transition_dict)\n",
    "\n",
    "                if efm_net.train_time > 100:\n",
    "                    done = True\n",
    "                        \n",
    "            \n",
    "            return_list.append(episode_return)\n",
    "            \n",
    "            if (i_episode+1) % 10 == 0:\n",
    "                pbar.set_postfix({'episode': '%d' % (num_episode / 10 * i + i_episode+1), 'return': '%.3f' % np.mean(return_list[-10:])})\n",
    "                action_list.append(this_action)\n",
    "            pbar.update(1)"
   ]
  },
  {
   "cell_type": "code",
   "execution_count": 8,
   "metadata": {},
   "outputs": [],
   "source": [
    "# print(return_list)\n",
    "# plt.plot(range(len(return_list)), return_list)"
   ]
  },
  {
   "cell_type": "code",
   "execution_count": 9,
   "metadata": {},
   "outputs": [],
   "source": [
    "import csv\n",
    "\n",
    "result_path = 'result0918.csv'\n",
    "\n",
    "with open(result_path, 'w', newline='') as f:\n",
    "    writer = csv.writer(f)\n",
    "    writer.writerow(return_list)\n",
    "    \n",
    "    "
   ]
  },
  {
   "cell_type": "code",
   "execution_count": 10,
   "metadata": {},
   "outputs": [],
   "source": [
    "action_path = 'action0918.csv'\n",
    "\n",
    "with open(action_path, 'w', newline='') as f:\n",
    "    writer = csv.writer(f)\n",
    "    writer.writerows(action_list)"
   ]
  },
  {
   "cell_type": "code",
   "execution_count": 11,
   "metadata": {},
   "outputs": [
    {
     "data": {
      "text/plain": [
       "<module 'rltk.rl_utils' from 'e:\\\\SJTU_pro\\\\DigitalTwin\\\\dtg_ws\\\\pntk\\\\rltk\\\\rl_utils.py'>"
      ]
     },
     "execution_count": 11,
     "metadata": {},
     "output_type": "execute_result"
    }
   ],
   "source": [
    "import importlib\n",
    "from rltk import rl_utils\n",
    "\n",
    "importlib.reload(rl_utils)"
   ]
  },
  {
   "cell_type": "code",
   "execution_count": 14,
   "metadata": {},
   "outputs": [
    {
     "data": {
      "text/plain": [
       "[<matplotlib.lines.Line2D at 0x14c6aaee0e0>]"
      ]
     },
     "execution_count": 14,
     "metadata": {},
     "output_type": "execute_result"
    },
    {
     "data": {
      "image/png": "[encoded data removed]",
      "text/plain": [
       "<Figure size 640x480 with 1 Axes>"
      ]
     },
     "metadata": {},
     "output_type": "display_data"
    }
   ],
   "source": [
    "mv_return = rl_utils.window_average(return_list, 32)\n",
    "plt.plot(range(len(return_list)), mv_return)"
   ]
  },
  {
   "cell_type": "code",
   "execution_count": 13,
   "metadata": {},
   "outputs": [],
   "source": [
    "prob = -19\n",
    "# print(return_list[prob:])\n",
    "# print(len(action_list[prob]))\n",
    "# print(action_list[prob])"
   ]
  },
  {
   "cell_type": "code",
   "execution_count": null,
   "metadata": {},
   "outputs": [],
   "source": []
  }
 ],
 "metadata": {
  "kernelspec": {
   "display_name": "Python 3",
   "language": "python",
   "name": "python3"
  },
  "language_info": {
   "codemirror_mode": {
    "name": "ipython",
    "version": 3
   },
   "file_extension": ".py",
   "mimetype": "text/x-python",
   "name": "python",
   "nbconvert_exporter": "python",
   "pygments_lexer": "ipython3",
   "version": "3.10.9"
  }
 },
 "nbformat": 4,
 "nbformat_minor": 2
}
