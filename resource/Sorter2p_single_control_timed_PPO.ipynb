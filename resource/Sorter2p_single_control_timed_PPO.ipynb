{
 "cells": [
  {
   "cell_type": "code",
   "execution_count": 1,
   "metadata": {},
   "outputs": [],
   "source": [
    "import petri_net_toolkit as pntk\n",
    "from petri_net_toolkit.mini_fab_petri_nets import *\n",
    "from petri_net_toolkit.timed_mini_fab_petri_nets import *\n",
    "import numpy as np\n",
    "import torch\n",
    "from torch.nn import functional as F\n",
    "from torch.distributions import Categorical\n",
    "import matplotlib.pyplot as plt\n",
    "import collections\n",
    "import random\n",
    "from tqdm import tqdm\n",
    "import rl_utils"
   ]
  },
  {
   "cell_type": "code",
   "execution_count": 2,
   "metadata": {},
   "outputs": [
    {
     "name": "stdout",
     "output_type": "stream",
     "text": [
      "{'p1': {'default': 30}, 'p2': {'default': 0}, 'p3': {'default': 0}, 'p4': {'default': 0}, 'p5': {'default': 0}, 'p6': {'default': 0}, 'p7': {'default': 1}, 'p8': {'default': 1}}\n"
     ]
    },
    {
     "name": "stderr",
     "output_type": "stream",
     "text": [
      "/Users/jason/Documents/SJTU_pro/Projects/DTG/PetriNets/petri_net_toolkit/petri_nets_pro.py:220: FutureWarning: The behavior of DataFrame concatenation with empty or all-NA entries is deprecated. In a future version, this will no longer exclude empty or all-NA columns when determining the result dtypes. To retain the old behavior, exclude the relevant entries before the concat operation.\n",
      "  self.pt_matrix.loc[element.name] = np.zeros(len(self.pt_matrix.columns))\n"
     ]
    }
   ],
   "source": [
    "env = Sorter2p_Single_Timed('Sorter2p_Petri', control=True)\n",
    "\n",
    "env.set_fire_bonus(5)\n",
    "env.set_invalid_fire_penalty(-2)\n",
    "env.set_time_period(1)\n",
    "env.set_reworking_penalty(-20)\n",
    "env.set_deadlock_penalty(-100)\n",
    "env.set_dummy_penalty(-1)\n",
    "env.initialize_net()\n",
    "env.reset()\n",
    "env.draw_net('Sorter2p_Colored_initial.png', show_note=True)"
   ]
  },
  {
   "cell_type": "code",
   "execution_count": 3,
   "metadata": {},
   "outputs": [],
   "source": [
    "class PolicyNet(torch.nn.Module):\n",
    "    def __init__(self, state_dim, hidden_dim, action_dim):\n",
    "        super(PolicyNet, self).__init__()\n",
    "        self.fc1 = torch.nn.Linear(state_dim, hidden_dim)\n",
    "        # self.fc2 = torch.nn.Linear(hidden_dim, hidden_dim)\n",
    "        # self.fc3 = torch.nn.Linear(hidden_dim, hidden_dim)\n",
    "        self.fc4 = torch.nn.Linear(hidden_dim, action_dim)\n",
    "\n",
    "    def forward(self, x):\n",
    "        x = F.relu(self.fc1(x))\n",
    "        # x = F.relu(self.fc2(x))\n",
    "        # x = F.relu(self.fc3(x))\n",
    "        return  F.softmax(self.fc4(x), dim=-1)\n",
    "\n",
    "class ValueNet(torch.nn.Module):\n",
    "    def __init__(self, state_dim, hidden_dim):\n",
    "        super(ValueNet, self).__init__()\n",
    "        self.fc1 = torch.nn.Linear(state_dim, hidden_dim)\n",
    "        self.fc2 = torch.nn.Linear(hidden_dim, 1)\n",
    "\n",
    "    def forward(self, x):\n",
    "        x = F.relu(self.fc1(x))\n",
    "        return self.fc2(x)"
   ]
  },
  {
   "cell_type": "code",
   "execution_count": 4,
   "metadata": {},
   "outputs": [],
   "source": [
    "class PPO:\n",
    "    def __init__(self, state_dim, hidden_dim, action_dim, actor_lr, critic_lr, lmbda, epochs, eps, gamma, device):\n",
    "        self.actor = PolicyNet(state_dim, hidden_dim, action_dim).to(device)\n",
    "        self.critic = ValueNet(state_dim, hidden_dim).to(device)\n",
    "        self.actor_optimizer = torch.optim.Adam(self.actor.parameters(), lr=actor_lr)\n",
    "        self.critic_optimizer = torch.optim.Adam(self.critic.parameters(), lr=critic_lr)\n",
    "        self.gamma = gamma\n",
    "        self.lmbda = lmbda\n",
    "        self.epochs = epochs\n",
    "        self.eps = eps      # PPO-Clip epsilon\n",
    "        self.device = device\n",
    "\n",
    "    def take_action(self, state):\n",
    "        state = torch.tensor([state], dtype=torch.float).to(self.device)\n",
    "        probs = self.actor(state)\n",
    "        action_list = torch.distributions.Categorical(probs)\n",
    "        action = action_list.sample()\n",
    "        return action.item()\n",
    "\n",
    "    def update(self, transition_dict):\n",
    "        states = torch.tensor(transition_dict['states'], dtype=torch.float).to(self.device)\n",
    "        actions = torch.tensor(transition_dict['actions']).view(-1, 1).to(self.device)\n",
    "        rewards = torch.tensor(transition_dict['rewards'], dtype=torch.float).view(-1, 1).to(self.device)\n",
    "        next_states = torch.tensor(transition_dict['next_states'], dtype=torch.float).to(self.device)\n",
    "        dones = torch.tensor(transition_dict['dones'], dtype=torch.float).view(-1, 1).to(self.device)\n",
    "        td_target = rewards + self.gamma * self.critic(next_states) * (1-dones)\n",
    "        td_delta = td_target - self.critic(states)\n",
    "        advantage = rl_utils.compute_advantage(self.gamma, self.lmbda, td_delta.cpu()).to(self.device)\n",
    "        old_log_probs = torch.log(self.actor(states).gather(1, actions)).detach()\n",
    "\n",
    "\n",
    "        for _ in range(self.epochs):\n",
    "            log_probs = torch.log(self.actor(states).gather(1, actions))\n",
    "            ratio = torch.exp(log_probs - old_log_probs)\n",
    "            surr1 = ratio * advantage\n",
    "            surr2 = torch.clamp(ratio, 1-self.eps, 1+self.eps)\n",
    "            actor_loss = torch.mean(-torch.min(surr1, surr2))\n",
    "            critic_loss = torch.mean(F.mse_loss(self.critic(states), td_target.detach()))\n",
    "            self.actor_optimizer.zero_grad()\n",
    "            self.critic_optimizer.zero_grad()\n",
    "            actor_loss.backward()\n",
    "            # torch.nn.utils.clip_grad_norm_(self.actor.parameters(), max_norm=1.0) \n",
    "            critic_loss.backward()\n",
    "            self.actor_optimizer.step()\n",
    "            self.critic_optimizer.step()\n",
    "            # for name, param in self.actor.named_parameters():\n",
    "            #     if param.grad is not None:\n",
    "            #         print(f'Parameter: {name}, Gradient norm: {torch.norm(param.grad)}')\n"
   ]
  },
  {
   "cell_type": "code",
   "execution_count": 5,
   "metadata": {},
   "outputs": [],
   "source": [
    "actor_lr = 1e-3\n",
    "critic_lr = 1e-3\n",
    "num_episodes = 500\n",
    "hidden_dim = 128\n",
    "gamma = 0.99\n",
    "lmbda = 0.95\n",
    "epochs = 10\n",
    "eps = 0.4"
   ]
  },
  {
   "cell_type": "code",
   "execution_count": 6,
   "metadata": {},
   "outputs": [
    {
     "name": "stdout",
     "output_type": "stream",
     "text": [
      "13\n",
      "4\n"
     ]
    }
   ],
   "source": [
    "state_dim = env.observation_space[0]\n",
    "action_dim = env.action_space\n",
    "print(state_dim)\n",
    "print(action_dim)\n",
    "torch.manual_seed(4)\n",
    "device = torch.device(\"cuda\") if torch.cuda.is_available() else torch.device(\"cpu\")\n",
    "agent = PPO(state_dim, hidden_dim, action_dim, actor_lr, critic_lr, lmbda, epochs, eps, gamma, device)"
   ]
  },
  {
   "cell_type": "code",
   "execution_count": 7,
   "metadata": {},
   "outputs": [
    {
     "name": "stderr",
     "output_type": "stream",
     "text": [
      "Iteration 0:   0%|          | 0/50 [00:00<?, ?it/s]/var/folders/7x/vkxy_bn547d757f8znyxd6rh0000gn/T/ipykernel_66215/1716029588.py:14: UserWarning: Creating a tensor from a list of numpy.ndarrays is extremely slow. Please consider converting the list to a single numpy.ndarray with numpy.array() before converting to a tensor. (Triggered internally at /Users/runner/work/pytorch/pytorch/pytorch/torch/csrc/utils/tensor_new.cpp:278.)\n",
      "  state = torch.tensor([state], dtype=torch.float).to(self.device)\n",
      "Iteration 0: 100%|██████████| 50/50 [00:01<00:00, 45.43it/s, episode=50, return=-0.700]  \n",
      "Iteration 1: 100%|██████████| 50/50 [00:00<00:00, 106.80it/s, episode=100, return=11.200]\n",
      "Iteration 2: 100%|██████████| 50/50 [00:00<00:00, 152.83it/s, episode=150, return=9.800] \n",
      "Iteration 3: 100%|██████████| 50/50 [00:00<00:00, 158.25it/s, episode=200, return=11.500]\n",
      "Iteration 4: 100%|██████████| 50/50 [00:00<00:00, 160.35it/s, episode=250, return=11.600]\n",
      "Iteration 5: 100%|██████████| 50/50 [00:00<00:00, 161.36it/s, episode=300, return=12.000]\n",
      "Iteration 6: 100%|██████████| 50/50 [00:00<00:00, 159.38it/s, episode=350, return=12.000]\n",
      "Iteration 7: 100%|██████████| 50/50 [00:00<00:00, 139.96it/s, episode=400, return=12.000]\n",
      "Iteration 8: 100%|██████████| 50/50 [00:00<00:00, 162.24it/s, episode=450, return=11.900]\n",
      "Iteration 9: 100%|██████████| 50/50 [00:00<00:00, 160.69it/s, episode=500, return=11.900]\n",
      "Iteration 10: 100%|██████████| 50/50 [00:00<00:00, 163.90it/s, episode=550, return=11.900]\n",
      "Iteration 11: 100%|██████████| 50/50 [00:00<00:00, 162.00it/s, episode=600, return=12.000]\n",
      "Iteration 12: 100%|██████████| 50/50 [00:00<00:00, 158.67it/s, episode=650, return=12.000]\n",
      "Iteration 13: 100%|██████████| 50/50 [00:00<00:00, 160.31it/s, episode=700, return=12.000]\n",
      "Iteration 14: 100%|██████████| 50/50 [00:00<00:00, 160.38it/s, episode=750, return=12.000]\n",
      "Iteration 15: 100%|██████████| 50/50 [00:00<00:00, 161.50it/s, episode=800, return=12.000]\n",
      "Iteration 16: 100%|██████████| 50/50 [00:00<00:00, 160.90it/s, episode=850, return=12.000]\n",
      "Iteration 17: 100%|██████████| 50/50 [00:00<00:00, 161.73it/s, episode=900, return=12.000]\n",
      "Iteration 18: 100%|██████████| 50/50 [00:00<00:00, 162.44it/s, episode=950, return=11.900]\n",
      "Iteration 19: 100%|██████████| 50/50 [00:00<00:00, 159.85it/s, episode=1000, return=12.000]\n"
     ]
    }
   ],
   "source": [
    "return_list = []\n",
    "output_traj = []\n",
    "output_traj_ = []\n",
    "dict_list = []\n",
    "output_time = []\n",
    "T_list = []\n",
    "for i in range(20):\n",
    "    with tqdm(total=int(num_episodes / 10), desc='Iteration %d' % i) as pbar:\n",
    "        for i_episode in range(int(num_episodes / 10)):\n",
    "            episode_return = 0\n",
    "            transition_dict = {'states': [], 'actions': [], 'next_states': [], 'rewards': [], 'dones': []}\n",
    "            state = env.reset()\n",
    "            done = False\n",
    "            max_T = 300\n",
    "            T = 0\n",
    "            traj_o = []\n",
    "            trig = np.zeros(env.action_dim)\n",
    "            ## sample one sequence\n",
    "            while (not done) and (T < max_T):\n",
    "                action = agent.take_action(state)\n",
    "                next_state, reward, done = env.step(action)\n",
    "                transition_dict['states'].append(state)\n",
    "                transition_dict['actions'].append(action)\n",
    "                transition_dict['next_states'].append(next_state)\n",
    "                transition_dict['rewards'].append(reward)\n",
    "                transition_dict['dones'].append(done)\n",
    "                state = next_state  \n",
    "                episode_return += reward\n",
    "                traj_o.append(env.places['p6'].token['default'])\n",
    "                T += 1\n",
    "                # print(state)\n",
    "                # print(env.places['p20'].token['default_error'], env.places['p22'].token['default_error'])\n",
    "                # if env.places['p20'].token['default_error'] != env.places['p22'].token['default_error']:\n",
    "                #     print(action)\n",
    "                # print(env.act_time)\n",
    "                    \n",
    "            T_list.append(T)\n",
    "            output_traj.append(traj_o)\n",
    "            output_time.append(env.act_time) \n",
    "            return_list.append(episode_return)\n",
    "            dict_list.append(transition_dict)\n",
    "            agent.update(transition_dict)\n",
    "            if (i_episode + 1) % 10 == 0:\n",
    "                pbar.set_postfix({'episode': '%d' % (num_episodes / 10 * i + i_episode + 1),\n",
    "                                    'return': '%.3f' % np.mean(return_list[-10:])})\n",
    "            pbar.update(1)"
   ]
  },
  {
   "cell_type": "code",
   "execution_count": 8,
   "metadata": {},
   "outputs": [
    {
     "name": "stdout",
     "output_type": "stream",
     "text": [
      "[1. 0. 0. 0. 0. 0. 1. 1. 0. 0. 0. 0. 0.]\n",
      "[0.96666667 0.         0.         0.         0.         0.\n",
      " 0.         1.         0.         0.         0.         0.\n",
      " 0.        ]\n",
      "[0.96666667 0.         0.         0.         0.         0.\n",
      " 0.         1.         0.5        0.         0.         0.\n",
      " 0.        ]\n",
      "[0.96666667 0.         0.         0.         0.         0.\n",
      " 0.         0.         0.         0.         0.         0.\n",
      " 0.        ]\n",
      "[0.96666667 0.         0.         0.         0.         0.\n",
      " 0.         0.         0.         0.5        0.         0.\n",
      " 0.        ]\n",
      "[0.96666667 0.         1.         0.         0.         0.\n",
      " 1.         0.         0.         0.         0.         0.\n",
      " 0.        ]\n"
     ]
    }
   ],
   "source": [
    "k = -1\n",
    "for i in range(len(dict_list[k]['states'])):\n",
    "    print(dict_list[k]['states'][i])"
   ]
  },
  {
   "cell_type": "code",
   "execution_count": 9,
   "metadata": {},
   "outputs": [
    {
     "name": "stdout",
     "output_type": "stream",
     "text": [
      "1\n",
      "0\n",
      "2\n",
      "0\n",
      "0\n",
      "1\n"
     ]
    }
   ],
   "source": [
    "for i in range(len(dict_list[k]['actions'])):\n",
    "    print(dict_list[k]['actions'][i])"
   ]
  },
  {
   "cell_type": "code",
   "execution_count": 10,
   "metadata": {},
   "outputs": [
    {
     "data": {
      "text/plain": [
       "[<matplotlib.lines.Line2D at 0x17389d9f0>]"
      ]
     },
     "execution_count": 10,
     "metadata": {},
     "output_type": "execute_result"
    },
    {
     "data": {
      "image/png": "[encoded data removed]",
      "text/plain": [
       "<Figure size 640x480 with 1 Axes>"
      ]
     },
     "metadata": {},
     "output_type": "display_data"
    }
   ],
   "source": [
    "# ======= plot T =======\n",
    "plt.plot(range(len(T_list)), T_list)"
   ]
  },
  {
   "cell_type": "code",
   "execution_count": 11,
   "metadata": {},
   "outputs": [
    {
     "name": "stdout",
     "output_type": "stream",
     "text": [
      "1000\n"
     ]
    },
    {
     "data": {
      "image/png": "[encoded data removed]",
      "text/plain": [
       "<Figure size 640x480 with 1 Axes>"
      ]
     },
     "metadata": {},
     "output_type": "display_data"
    }
   ],
   "source": [
    "# ======= plot output traj =======\n",
    "max_traj = max(len(traj) for traj in output_traj)\n",
    "step_num = range(max_traj)\n",
    "for traj in output_traj:\n",
    "    traj.extend([traj[-1]] * (max_traj - len(traj)))\n",
    "    \n",
    "max_step = 200\n",
    "for i in range(40):\n",
    "    plt.plot(step_num[:max_step], output_traj[i][:max_step])\n",
    "\n",
    "plt.plot(step_num[:max_step], output_traj[-1][:max_step], 'b-')\n",
    "plt.xlabel('step number')\n",
    "plt.ylabel('output num')\n",
    "print(len(output_traj))"
   ]
  },
  {
   "cell_type": "code",
   "execution_count": 12,
   "metadata": {},
   "outputs": [
    {
     "name": "stdout",
     "output_type": "stream",
     "text": [
      "0\n"
     ]
    },
    {
     "data": {
      "text/plain": [
       "[<matplotlib.lines.Line2D at 0x290d4b040>]"
      ]
     },
     "execution_count": 12,
     "metadata": {},
     "output_type": "execute_result"
    },
    {
     "data": {
      "image/png": "[encoded data removed]",
      "text/plain": [
       "<Figure size 640x480 with 1 Axes>"
      ]
     },
     "metadata": {},
     "output_type": "display_data"
    }
   ],
   "source": [
    "# ======= plot min finish time =======\n",
    "\n",
    "print(output_time[-1])\n",
    "plt.plot(range(len(output_time)), output_time)"
   ]
  },
  {
   "cell_type": "code",
   "execution_count": 13,
   "metadata": {},
   "outputs": [
    {
     "name": "stdout",
     "output_type": "stream",
     "text": [
      "[-19, 10, -19, -31, 5, -10, 3, -37, -13, -44, -18, -24, -37, 3, -1, -23, -32, -8, 3, -6, -356, -11, 4, -96, -3, -34, -67, -112, -10, -63, -299, -11, -74, -71, -35, -294, -1, -333, 8, -1, 8, -6, 2, -22, 2, -8, 2, 6, -2, 11, -14, 8, 9, 2, 4, 7, 6, -296, 2, 11, 9, 10, 12, 12, 6, 11, 11, 9, -13, 8, 12, -7, 6, 4, 1, 11, 7, 10, 8, 12, 11, 8, 10, 10, -7, 9, -12, 12, 11, 11, 11, 9, 12, 12, 11, 11, 12, 11, 11, 12, 11, 11, 11, 11, 11, 10, 11, 11, 9, 7, 10, 11, 10, 11, 11, 11, 11, 11, 11, 11, 11, 11, 10, 11, 11, 11, 11, 12, 11, 11, 11, 11, 11, 11, 11, 11, -8, 11, 11, 10, 11, 9, 10, 10, 7, 11, 10, 11, 10, 9, 11, 11, 11, 11, 11, 10, 11, 11, 11, 11, 11, 11, 11, 9, 11, 11, 12, 12, 9, 10, 10, 11, 11, 12, 11, 11, 12, 11, 12, 12, 10, 11, 11, 12, 12, 11, 11, 12, 10, 11, 11, 12, 12, 12, 12, 11, 11, 12, 11, 11, 11, 11, 12, 12, 12, 12, 12, 12, 12, 12, 12, 12, 12, 12, 12, 11, 12, 11, 11, 12, 12, 12, 11, 12, 12, 11, 12, 12, 11, 12, 10, 12, 12, 12, 12, 11, 12, 12, 12, 12, 11, 12, 12, 12, 12, 11, 11, 12, 11, 12, 12, 12, 12, 11, 12, 12, 12, 12, 12, 12, 11, 12, 12, 12, 12, 12, 12, 12, 11, 11, 12, 12, 12, 12, 12, 12, 12, 12, 11, 12, 12, 12, 12, 12, 12, 12, 12, 12, 12, 12, 12, 12, 12, 12, 12, 12, 12, 12, 12, 12, 12, 12, 12, 12, 11, 12, 12, 11, 12, 12, 12, 12, 12, 11, 12, 12, 12, 12, 12, 12, 12, 12, 12, 12, 12, 12, 11, 12, 12, 12, 12, 12, 12, 12, 12, 12, 12, 12, 12, 12, 12, 12, 12, 12, 12, 12, 12, 12, 12, 12, 12, 12, 12, 12, 12, 12, 12, 12, 12, 12, 12, 12, 12, 12, 12, 12, 12, 12, 12, 12, 12, 12, 12, 12, 12, 12, 11, 12, 12, 12, 12, 12, 12, 12, 12, 12, 12, 12, 12, 12, 12, 12, 12, 12, 12, 12, 12, 12, 12, 12, 12, 12, 12, 12, 11, 12, 11, 12, 12, 12, 12, 12, 12, 12, 12, 12, 12, 12, 12, 12, 12, 12, 12, 12, 12, 12, 12, 12, 12, 12, 12, 12, 12, 12, 12, 12, 11, 12, 12, 12, 11, 12, 12, 12, 12, 12, 12, 12, 12, 12, 12, 12, 12, 12, 12, 12, 12, 12, 12, 12, 12, 12, 12, 12, 12, 12, 12, 12, 12, 11, 12, 12, 12, 12, 12, 12, 12, 12, 12, 12, 12, 12, 12, 12, 12, 12, 12, 12, 12, 12, 11, 12, 12, 12, 12, 12, 12, 12, 12, 12, 12, 12, 12, 12, 12, 12, 12, 12, 12, 12, 12, 12, 12, 12, 12, 12, 12, 11, 12, 12, 12, 12, 12, 12, 12, 12, 11, 12, 12, 12, 12, 12, 12, 12, 12, 12, 12, 12, 12, 12, 12, 12, 12, 12, 12, 11, 12, 12, 12, 12, 11, 12, 12, 12, 12, 12, 12, 12, 12, 12, 12, 12, 12, 12, 12, 12, 12, 12, 12, 12, 12, 12, 12, 12, 12, 12, 12, 12, 12, 12, 12, 12, 12, 12, 12, 12, 12, 12, 12, 12, 12, 12, 12, 12, 12, 12, 12, 12, 12, 12, 12, 12, 12, 12, 12, 11, 12, 12, 12, 12, -7, 12, 12, 11, 12, 12, 12, 12, 12, 12, 12, 12, 12, 12, 12, 12, 12, 12, 11, 12, 12, 12, 12, 12, 12, 11, 10, 12, 12, 12, 12, 12, 12, 12, 12, 12, 12, 12, 12, 12, 12, 12, 12, 12, 12, 12, 12, 11, 12, 12, 12, 12, 12, 12, 12, 12, 12, 12, 12, 12, 12, 12, 12, 12, 12, 12, 12, 12, 12, 12, 12, 12, 12, 12, 12, 12, 12, 12, 12, 12, 12, 12, 12, 12, 12, 12, 12, 12, 12, 12, 12, 12, 12, 12, 12, 12, 12, 12, 12, 12, 12, 12, 12, 12, 12, 12, 12, 12, 12, 12, 12, 12, 12, 12, 12, 12, 12, 12, 12, 12, 12, 12, 12, 12, 12, 12, 12, 12, 12, 12, 12, 12, 12, 12, 12, 12, 12, 12, 12, 12, 12, 12, 12, 12, 12, 12, 12, 12, 12, 12, 12, 12, 12, 12, 12, 12, 12, 12, 12, 12, 12, 12, 12, 12, 12, 12, 12, 12, 12, 12, 12, 12, 12, 12, 12, 12, 12, 12, 12, 12, 12, 12, 12, 12, 12, 12, 12, 12, 12, 12, 12, 12, 12, 12, 12, 12, 12, 12, 12, 12, 12, 12, 12, 12, 12, 12, 12, 12, 12, 12, 12, 12, 12, 12, 12, 12, 12, 12, 12, 12, 12, 12, 12, 12, 12, 12, 12, 12, 12, 12, 12, 12, 12, 12, 12, 12, 12, 12, 12, 12, 12, 12, 12, 12, 12, 12, 12, 12, 12, 12, 12, 12, 12, 12, 12, 12, 12, 12, 12, 12, 12, 12, 12, 12, 12, 12, 12, 12, 12, 12, 12, 12, 12, 12, 12, 12, 12, 12, 12, 12, 12, 12, 12, 12, 12, 12, 12, 12, 12, 12, 12, 12, 12, 12, 12, 12, 12, 12, 12, 12, 12, 12, 12, 12, 12, 12, 11, 12, 12, 12, 12, 12, 12, 12, 12, 12, 12, 12, 12, 12, 12, 12, 12, 12, 12, 12, 12, 12, 12, 12, 12, 12, 12, 12, 12, 12, 12, 12, 12, 11, 12, 12, 12, 12, 12, 12, 12, 12, 12, 12, 12, 12, 12, 12, 12, 12, 12, 12, 12, 12, 12, 12, 12, 12, 12, 12, 12, 12, 12, 12, 12, 12, 12, 12, 12, 12, 12, 12, 12, 12, 12, 12, 12, 12, 12, 12, 12, 12, 12, 12]\n"
     ]
    },
    {
     "data": {
      "text/plain": [
       "[<matplotlib.lines.Line2D at 0x290db5840>]"
      ]
     },
     "execution_count": 13,
     "metadata": {},
     "output_type": "execute_result"
    },
    {
     "data": {
      "image/png": "[encoded data removed]",
      "text/plain": [
       "<Figure size 640x480 with 1 Axes>"
      ]
     },
     "metadata": {},
     "output_type": "display_data"
    }
   ],
   "source": [
    "print(return_list)\n",
    "plt.plot(range(len(return_list)), return_list)"
   ]
  },
  {
   "cell_type": "code",
   "execution_count": 14,
   "metadata": {},
   "outputs": [
    {
     "data": {
      "text/plain": [
       "[<matplotlib.lines.Line2D at 0x290e31f00>]"
      ]
     },
     "execution_count": 14,
     "metadata": {},
     "output_type": "execute_result"
    },
    {
     "data": {
      "image/png": "[encoded data removed]",
      "text/plain": [
       "<Figure size 640x480 with 1 Axes>"
      ]
     },
     "metadata": {},
     "output_type": "display_data"
    }
   ],
   "source": [
    "mv_return = rl_utils.moving_average(return_list, 27)\n",
    "plt.plot(range(len(return_list)), mv_return)"
   ]
  },
  {
   "cell_type": "code",
   "execution_count": null,
   "metadata": {},
   "outputs": [],
   "source": []
  }
 ],
 "metadata": {
  "kernelspec": {
   "display_name": "GrindingDT",
   "language": "python",
   "name": "python3"
  },
  "language_info": {
   "codemirror_mode": {
    "name": "ipython",
    "version": 3
   },
   "file_extension": ".py",
   "mimetype": "text/x-python",
   "name": "python",
   "nbconvert_exporter": "python",
   "pygments_lexer": "ipython3",
   "version": "3.10.13"
  }
 },
 "nbformat": 4,
 "nbformat_minor": 2
}
