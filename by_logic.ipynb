{
 "cells": [
  {
   "cell_type": "code",
   "execution_count": 1,
   "metadata": {},
   "outputs": [],
   "source": [
    "from pypetri.elements import *\n",
    "from pypetri.petri_net import *\n",
    "from pypetri.example_nets import *\n",
    "import math\n",
    "import csv\n",
    "import numpy as np\n",
    "import torch\n",
    "import torch.nn as nn\n",
    "from torch.nn import functional as F\n",
    "from torch.distributions import Categorical\n",
    "import matplotlib.pyplot as plt\n",
    "import collections\n",
    "import random\n",
    "\n",
    "from tqdm import tqdm\n"
   ]
  },
  {
   "cell_type": "code",
   "execution_count": 2,
   "metadata": {},
   "outputs": [],
   "source": [
    "class PNAgent():\n",
    "    def __init__(self):\n",
    "        pass\n",
    "    \n",
    "    def take_action(self, state):\n",
    "        state_p = state[0]\n",
    "        state_t = state[1]\n",
    "        \n",
    "        choix = np.where((state_t[:, 0] == 1) & (state_t[:, 1] == 0))[0]\n",
    "        # if choix.size > 0:\n",
    "            \n",
    "        # print(choix)\n",
    "        if choix.size > 1:\n",
    "            return choix[0].item()+1\n",
    "        else:\n",
    "            return 0\n",
    "    \n",
    "    def update(self):\n",
    "        pass"
   ]
  },
  {
   "cell_type": "code",
   "execution_count": 3,
   "metadata": {},
   "outputs": [
    {
     "name": "stdout",
     "output_type": "stream",
     "text": [
      "cuda\n"
     ]
    }
   ],
   "source": [
    "lr = 2e-3\n",
    "gamma = 0.98\n",
    "epsilon = 0.05\n",
    "num_episode = 500\n",
    "target_update = 10\n",
    "buffer_size = 10000\n",
    "minimal_size = 500\n",
    "batch_size = 64\n",
    "\n",
    "efm_net = EmptyNet('efm_net')\n",
    "initial_file_path = 'initial_file/neural_petri_net.csv'\n",
    "# initial_file_path = 'initial_file/test_net_2.csv'\n",
    "efm_net.init_by_csv(initial_file_path)\n",
    "efm_net.set_dt(1)\n",
    "\n",
    "lp = efm_net.get_state()[0].shape[1]\n",
    "lt = efm_net.get_state()[1].shape[1]\n",
    "action_dim = efm_net.get_action_space()\n",
    "\n",
    "device = torch.device('cuda') if torch.cuda.is_available() else torch.device('cpu')\n",
    "print(device)\n",
    "\n",
    "agent = PNAgent()"
   ]
  },
  {
   "cell_type": "code",
   "execution_count": 4,
   "metadata": {},
   "outputs": [],
   "source": [
    "state = efm_net.get_state()\n",
    "action = agent.take_action(state)"
   ]
  },
  {
   "cell_type": "code",
   "execution_count": 5,
   "metadata": {},
   "outputs": [],
   "source": [
    "\n",
    "return_list = []\n",
    "action_list = []\n",
    "\n",
    "episode_return = 0\n",
    "state = efm_net.reset()\n",
    "done = False\n",
    "this_action = []\n",
    "\n",
    "while not done:\n",
    "    action = agent.take_action(state)\n",
    "    this_action.append(action)\n",
    "    # print(action)\n",
    "    next_state, reward, done = efm_net.step(action)\n",
    "    state = next_state\n",
    "    # print(state)\n",
    "\n",
    "    episode_return += reward\n",
    "\n",
    "\n",
    "    if efm_net.train_time > 1000:\n",
    "        done = True\n",
    "            \n",
    "\n",
    "return_list.append(episode_return)\n",
    "action_list.append(this_action)"
   ]
  },
  {
   "cell_type": "code",
   "execution_count": 6,
   "metadata": {},
   "outputs": [
    {
     "name": "stdout",
     "output_type": "stream",
     "text": [
      "[258.19000000000074]\n"
     ]
    }
   ],
   "source": [
    "print(return_list)\n",
    "# plt.plot(range(len(return_list)), return_list)"
   ]
  },
  {
   "cell_type": "code",
   "execution_count": 7,
   "metadata": {},
   "outputs": [
    {
     "name": "stdout",
     "output_type": "stream",
     "text": [
      "[1, 0, 0, 0, 51, 0, 0, 0, 2, 52, 0, 53, 0, 0, 0, 26, 51, 0, 0, 0, 3, 52, 0, 53, 0, 0, 0, 26, 51, 0, 0, 0, 4, 52, 0, 53, 0, 0, 0, 26, 51, 0, 0, 0, 5, 52, 0, 53, 0, 0, 0, 26, 51, 0, 0, 0, 6, 52, 0, 53, 0, 0, 0, 26, 51, 0, 0, 0, 7, 52, 0, 53, 0, 0, 0, 26, 51, 0, 0, 0, 8, 52, 0, 53, 0, 0, 0, 26, 51, 0, 0, 0, 9, 52, 0, 53, 0, 0, 0, 26, 51, 0, 0, 0, 10, 52, 0, 53, 0, 0, 0, 26, 51, 0, 0, 0, 11, 52, 0, 53, 0, 0, 0, 26, 51, 0, 0, 0, 12, 52, 0, 53, 0, 0, 0, 26, 51, 0, 0, 0, 13, 52, 0, 53, 0, 0, 0, 26, 51, 0, 0, 0, 14, 52, 0, 53, 0, 0, 0, 26, 51, 0, 0, 0, 15, 52, 0, 53, 0, 0, 0, 26, 51, 0, 0, 0, 16, 52, 0, 53, 0, 0, 0, 26, 51, 0, 0, 0, 17, 52, 0, 53, 0, 0, 0, 26, 51, 0, 0, 0, 18, 52, 0, 53, 0, 0, 0, 26, 51, 0, 0, 0, 19, 52, 0, 53, 0, 0, 0, 26, 51, 0, 0, 0, 20, 52, 0, 53, 0, 0, 0, 26, 51, 0, 0, 0, 21, 52, 0, 53, 0, 0, 0, 26, 51, 0, 0, 0, 22, 52, 0, 53, 0, 0, 0, 26, 51, 0, 0, 0, 23, 52, 0, 53, 0, 0, 0, 26, 51, 0, 0, 0, 24, 52, 0, 53, 0, 0, 0, 26, 51, 0, 0, 0, 25, 52, 0, 53, 0, 0, 0, 26, 51, 0, 0, 0, 52, 0, 53, 0, 0, 0, 26, 0, 0, 0]\n"
     ]
    }
   ],
   "source": [
    "print(action_list[0])"
   ]
  },
  {
   "cell_type": "code",
   "execution_count": 8,
   "metadata": {},
   "outputs": [],
   "source": [
    "action_path = 'action_logic.csv'\n",
    "\n",
    "with open(action_path, 'w', newline='') as f:\n",
    "    writer = csv.writer(f)\n",
    "    writer.writerows(action_list)"
   ]
  }
 ],
 "metadata": {
  "kernelspec": {
   "display_name": "Python 3",
   "language": "python",
   "name": "python3"
  },
  "language_info": {
   "codemirror_mode": {
    "name": "ipython",
    "version": 3
   },
   "file_extension": ".py",
   "mimetype": "text/x-python",
   "name": "python",
   "nbconvert_exporter": "python",
   "pygments_lexer": "ipython3",
   "version": "3.10.9"
  }
 },
 "nbformat": 4,
 "nbformat_minor": 2
}
